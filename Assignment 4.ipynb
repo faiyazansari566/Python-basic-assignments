{
 "cells": [
  {
   "cell_type": "markdown",
   "id": "909fe1fe",
   "metadata": {},
   "source": [
    "1. Write a Python Program to Find the Factorial of a Number?"
   ]
  },
  {
   "cell_type": "code",
   "execution_count": 65,
   "id": "e78f5e81",
   "metadata": {},
   "outputs": [
    {
     "name": "stdout",
     "output_type": "stream",
     "text": [
      "factorial of --> 15\n"
     ]
    },
    {
     "data": {
      "text/plain": [
       "1307674368000"
      ]
     },
     "execution_count": 65,
     "metadata": {},
     "output_type": "execute_result"
    }
   ],
   "source": [
    "def fact(x):\n",
    "    x_new=x\n",
    "    if x>0 :\n",
    "        while x!=1:\n",
    "            x_new = x_new*(x-1)\n",
    "            x = x-1\n",
    "        return x_new\n",
    "    else :\n",
    "        print('invalid number')\n",
    "fact(int(input('factorial of --> ')))"
   ]
  },
  {
   "cell_type": "markdown",
   "id": "54c92ab9",
   "metadata": {},
   "source": [
    "2. Write a Python Program to Display the multiplication Table?"
   ]
  },
  {
   "cell_type": "code",
   "execution_count": 4,
   "id": "5126db56",
   "metadata": {
    "scrolled": false
   },
   "outputs": [
    {
     "name": "stdout",
     "output_type": "stream",
     "text": [
      "enter the multiplication number :15\n",
      "15 x 1 = 15\n",
      "15 x 2 = 30\n",
      "15 x 3 = 45\n",
      "15 x 4 = 60\n",
      "15 x 5 = 75\n",
      "15 x 6 = 90\n",
      "15 x 7 = 105\n",
      "15 x 8 = 120\n",
      "15 x 9 = 135\n",
      "15 x 10 = 150\n"
     ]
    }
   ],
   "source": [
    "num = int(input('enter the multiplication number :'))\n",
    "for i in range(1,11):\n",
    "    print(num,'x',i,'=',num*i)"
   ]
  },
  {
   "cell_type": "markdown",
   "id": "f8a6130a",
   "metadata": {},
   "source": [
    "3. Write a Python Program to Print the Fibonacci sequence?"
   ]
  },
  {
   "cell_type": "code",
   "execution_count": 66,
   "id": "5686ec58",
   "metadata": {},
   "outputs": [
    {
     "name": "stdout",
     "output_type": "stream",
     "text": [
      "enter the length of sequence --> 12\n",
      "[0, 1, 1, 2, 3, 5, 8, 13, 21, 34, 55, 89]\n"
     ]
    }
   ],
   "source": [
    "a=[]\n",
    "temp1=0\n",
    "temp=1\n",
    "a.append(temp1)\n",
    "a.append(temp)\n",
    "for i in range(int(input('enter the length of sequence --> '))-1):\n",
    "    if i>=1:\n",
    "        temp = temp+a[i-1]\n",
    "        a.append(temp)       \n",
    "print(a)"
   ]
  },
  {
   "cell_type": "markdown",
   "id": "98e01870",
   "metadata": {},
   "source": [
    "4. Write a Python Program to Check Armstrong Number?"
   ]
  },
  {
   "cell_type": "code",
   "execution_count": 83,
   "id": "fb5b33c6",
   "metadata": {},
   "outputs": [
    {
     "name": "stdout",
     "output_type": "stream",
     "text": [
      "enter a number --> 153\n",
      "armstrong number\n"
     ]
    }
   ],
   "source": [
    "a = int(input('enter a number --> '))\n",
    "b=a%10\n",
    "c=(a%100 - a%10)/10\n",
    "d=(a%1000 -a%100)/100\n",
    "if a == (b**3+c**3+d**3):\n",
    "    print('armstrong number')\n",
    "    \n",
    "else:\n",
    "    print('not an armstrong number')"
   ]
  },
  {
   "cell_type": "code",
   "execution_count": 20,
   "id": "8d651011",
   "metadata": {},
   "outputs": [
    {
     "name": "stdout",
     "output_type": "stream",
     "text": [
      "enter a number --> 8208\n",
      "it is an armstrong #\n"
     ]
    }
   ],
   "source": [
    "import math\n",
    "num = int(input('enter a number --> '))\n",
    "temp=num\n",
    "digits = int(math.log10(num))+1\n",
    "sum = 0\n",
    "while temp>0:\n",
    "    digit = temp%10\n",
    "    sum = sum+digit**digits\n",
    "    temp = temp//10\n",
    "\n",
    "if num == sum :\n",
    "    print('it is an armstrong #')\n",
    "else:\n",
    "    print('not an armstrong #')"
   ]
  },
  {
   "cell_type": "markdown",
   "id": "ce62d153",
   "metadata": {},
   "source": [
    "5. Write a Python Program to Find Armstrong Number in an Interval?"
   ]
  },
  {
   "cell_type": "code",
   "execution_count": 31,
   "id": "c3256191",
   "metadata": {
    "scrolled": true
   },
   "outputs": [
    {
     "name": "stdout",
     "output_type": "stream",
     "text": [
      "enter a number --> 54748\n",
      "enter lowest value --> 1000\n",
      "enter highest value --> 2000\n",
      "out of range\n"
     ]
    },
    {
     "ename": "SystemExit",
     "evalue": "",
     "output_type": "error",
     "traceback": [
      "An exception has occurred, use %tb to see the full traceback.\n",
      "\u001b[1;31mSystemExit\u001b[0m\n"
     ]
    }
   ],
   "source": [
    "import sys\n",
    "num = int(input('enter a number --> '))\n",
    "temp=num\n",
    "digits = int(math.log10(num))+1\n",
    "sum = 0\n",
    "a=int(input('enter lowest value --> '))\n",
    "b=int(input('enter highest value --> '))\n",
    "while temp>0:\n",
    "    if a<=num<=b:\n",
    "        digit = temp%10\n",
    "        sum = sum+digit**digits\n",
    "        temp = temp//10\n",
    "\n",
    "\n",
    "    else:\n",
    "        print('out of range')\n",
    "        sys.exit()\n",
    "        \n",
    "if num == sum :\n",
    "    print('it is an armstrong #')\n",
    "else:\n",
    "    print('not an armstrong #')"
   ]
  },
  {
   "cell_type": "markdown",
   "id": "f30b3a3b",
   "metadata": {},
   "source": [
    "6. Write a Python Program to Find the Sum of Natural Numbers"
   ]
  },
  {
   "cell_type": "code",
   "execution_count": 56,
   "id": "d46b26f0",
   "metadata": {},
   "outputs": [],
   "source": [
    "def sum(x):\n",
    "    sum = 0\n",
    "    if x>0:\n",
    "        for i in range(x+1):\n",
    "            sum = sum + i\n",
    "        return sum\n",
    "    else:\n",
    "        print('invalid number')"
   ]
  },
  {
   "cell_type": "code",
   "execution_count": 59,
   "id": "665c5e61",
   "metadata": {
    "scrolled": true
   },
   "outputs": [
    {
     "name": "stdout",
     "output_type": "stream",
     "text": [
      "enter the natural numbers --> 15\n"
     ]
    },
    {
     "data": {
      "text/plain": [
       "120"
      ]
     },
     "execution_count": 59,
     "metadata": {},
     "output_type": "execute_result"
    }
   ],
   "source": [
    "sum(int(input('enter the natural numbers --> ')))"
   ]
  },
  {
   "cell_type": "code",
   "execution_count": null,
   "id": "51a4d248",
   "metadata": {},
   "outputs": [],
   "source": []
  }
 ],
 "metadata": {
  "kernelspec": {
   "display_name": "Python 3 (ipykernel)",
   "language": "python",
   "name": "python3"
  },
  "language_info": {
   "codemirror_mode": {
    "name": "ipython",
    "version": 3
   },
   "file_extension": ".py",
   "mimetype": "text/x-python",
   "name": "python",
   "nbconvert_exporter": "python",
   "pygments_lexer": "ipython3",
   "version": "3.9.7"
  }
 },
 "nbformat": 4,
 "nbformat_minor": 5
}
