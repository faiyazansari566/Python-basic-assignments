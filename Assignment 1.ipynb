{
 "cells": [
  {
   "cell_type": "markdown",
   "metadata": {},
   "source": [
    " Ans(1) : \n",
    " \n",
    "       Values = 'hello' , -87.8 , 6 \n",
    "       Expression = * , - ,/ , +  "
   ]
  },
  {
   "cell_type": "markdown",
   "metadata": {},
   "source": [
    "Ans(2) : \n",
    "\n",
    "     String is a type of data which are words whereas\n",
    "     variables are storage locations . A string can be stored \n",
    "     in a variable"
   ]
  },
  {
   "cell_type": "markdown",
   "metadata": {},
   "source": [
    "Ans(3) : \n",
    "     \n",
    "     Integer datatype --->  it stores data in the form integer eg. -90 , 378 , 98 etc\n",
    "     Float dtype ---> it stores data in decimal digits\n",
    "     String dtype ---> it stores information in the form of characters and alphabets"
   ]
  },
  {
   "cell_type": "markdown",
   "metadata": {},
   "source": [
    "Ans(4) : \n",
    "      \n",
    "      An expression is a combination of values , variables and operators . An expression evaluates the statements"
   ]
  },
  {
   "cell_type": "markdown",
   "metadata": {},
   "source": [
    "Ans(5) : \n",
    "     \n",
    "     A statement is an instruction that a Python interpreter can execute\n",
    "     An expression is a combination of values ,the interpreter evaluates the expression and displays the result\n",
    "   "
   ]
  },
  {
   "cell_type": "markdown",
   "metadata": {},
   "source": [
    "Ans(6) : \n",
    "      \n",
    "      The variable bacon contains value 22"
   ]
  },
  {
   "cell_type": "markdown",
   "metadata": {},
   "source": [
    "Ans(7) : \n",
    "    \n",
    "    1st term value ---> 'spamspamspam'\n",
    "    2nd term value ---> 'spamspamspam'"
   ]
  },
  {
   "cell_type": "markdown",
   "metadata": {},
   "source": [
    "Ans(8) : \n",
    "     \n",
    "     Since 100 is an integer it is already a value so we cant assign 100 = 101\n",
    "     whereas eggs is a valid varible as contain the name of address of the assign variables "
   ]
  },
  {
   "cell_type": "markdown",
   "metadata": {},
   "source": [
    "Ans(9) : \n",
    "\n",
    "    int() , float() and str()"
   ]
  },
  {
   "cell_type": "markdown",
   "metadata": {},
   "source": [
    "Ans(10) : \n",
    "     \n",
    "     99 should be taken as string since here it has to print the statement\n",
    "    'i have eaten'+ ' 99 ' + 'burritos'"
   ]
  },
  {
   "cell_type": "code",
   "execution_count": null,
   "metadata": {},
   "outputs": [],
   "source": []
  }
 ],
 "metadata": {
  "kernelspec": {
   "display_name": "Python 3",
   "language": "python",
   "name": "python3"
  },
  "language_info": {
   "codemirror_mode": {
    "name": "ipython",
    "version": 3
   },
   "file_extension": ".py",
   "mimetype": "text/x-python",
   "name": "python",
   "nbconvert_exporter": "python",
   "pygments_lexer": "ipython3",
   "version": "3.8.5"
  }
 },
 "nbformat": 4,
 "nbformat_minor": 4
}
