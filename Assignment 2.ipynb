{
 "cells": [
  {
   "cell_type": "markdown",
   "metadata": {},
   "source": [
    "Ans(1) :\n",
    "\n",
    "      True and False are the 2 boolean data types it is written as case sensitive True / False"
   ]
  },
  {
   "cell_type": "markdown",
   "metadata": {},
   "source": [
    "Ans(2) : \n",
    "      \n",
    "      The three types of boolean operators are AND , OR and NOT"
   ]
  },
  {
   "cell_type": "markdown",
   "metadata": {},
   "source": [
    "Ans(3) : \n",
    "        \n",
    "        AND truth table\n",
    "        True and True = True\n",
    "        True and False = False\n",
    "        False and True = False\n",
    "        False and False = False\n",
    "        \n",
    "        OR truth table\n",
    "        True or True = True\n",
    "        True or False = True\n",
    "        False or True = True\n",
    "        False or False = False\n",
    "        \n",
    "        NOT truth table\n",
    "        not(True) = False\n",
    "        not(False) = True"
   ]
  },
  {
   "cell_type": "markdown",
   "metadata": {},
   "source": [
    "Ans(4) : \n",
    "\n",
    "         1) 5>4 and 3==5 : False\n",
    "         2) not(5>4) : False\n",
    "         3) 5>4 or 3==5 : True\n",
    "         4) (True and True) and (True == False) : False\n",
    "         5) not False or not True : True"
   ]
  },
  {
   "cell_type": "markdown",
   "metadata": {},
   "source": [
    "Ans(5):\n",
    "     \n",
    "     The six comparison operators are :\n",
    "     1) >\n",
    "     2) <\n",
    "     3) >=\n",
    "     4) <=\n",
    "     5) ==\n",
    "     6) !=="
   ]
  },
  {
   "cell_type": "markdown",
   "metadata": {},
   "source": [
    "Ans(6) : \n",
    "    \n",
    "    Equal to operator compares the value of 2 objects\n",
    "    e.g 5 == 6 : False\n",
    "     \n",
    "    Assignment operator assign a value to a variable\n",
    "    e.g a = 4\n",
    "    "
   ]
  },
  {
   "cell_type": "markdown",
   "metadata": {},
   "source": [
    "Ans(7) : \n",
    "    \n",
    "    Block 1 :\n",
    "    if spam==10:\n",
    "        print('eggs')\n",
    "       \n",
    "    Block 2 :\n",
    "    if spam > 5:\n",
    "        print('bacon')\n",
    "        \n",
    "    Block 3 :\n",
    "    else :\n",
    "        print('ham')\n",
    "        print('spam')\n",
    "        print('spam')"
   ]
  },
  {
   "cell_type": "markdown",
   "metadata": {},
   "source": [
    "Ans(8) :"
   ]
  },
  {
   "cell_type": "code",
   "execution_count": 21,
   "metadata": {
    "scrolled": true
   },
   "outputs": [
    {
     "name": "stdout",
     "output_type": "stream",
     "text": [
      "7\n",
      "Greetings\n"
     ]
    }
   ],
   "source": [
    "spam = int(input())\n",
    "\n",
    "if spam == 1  :\n",
    "    print('hello')\n",
    "        \n",
    "elif spam == 2 :\n",
    "    print('howdy')\n",
    "    \n",
    "else:\n",
    "    print('Greetings')\n",
    "    "
   ]
  },
  {
   "cell_type": "markdown",
   "metadata": {},
   "source": [
    "Ans(9) :\n",
    "    \n",
    "    You can stop an infinite loop with CTRL + C"
   ]
  },
  {
   "cell_type": "markdown",
   "metadata": {},
   "source": [
    "Ans(10) :\n",
    "    \n",
    "    Break command is used to exit or break a for or while conditional loop. When the loop ends\n",
    "    The continue statement is used to skip code within a loop for certain iterations of the loop, after the code is skipped,       the loop continues where it left off"
   ]
  },
  {
   "cell_type": "markdown",
   "metadata": {},
   "source": [
    "Ans(11) :\n",
    "    \n",
    "    There is no difference between the given three commands"
   ]
  },
  {
   "cell_type": "markdown",
   "metadata": {},
   "source": [
    "Ans(12) :"
   ]
  },
  {
   "cell_type": "code",
   "execution_count": 26,
   "metadata": {
    "scrolled": true
   },
   "outputs": [
    {
     "name": "stdout",
     "output_type": "stream",
     "text": [
      "1\n",
      "2\n",
      "3\n",
      "4\n",
      "5\n",
      "6\n",
      "7\n",
      "8\n",
      "9\n",
      "10\n"
     ]
    }
   ],
   "source": [
    "for i in range(1,11):\n",
    "    print(i)"
   ]
  },
  {
   "cell_type": "code",
   "execution_count": 27,
   "metadata": {},
   "outputs": [
    {
     "name": "stdout",
     "output_type": "stream",
     "text": [
      "1\n",
      "2\n",
      "3\n",
      "4\n",
      "5\n",
      "6\n",
      "7\n",
      "8\n",
      "9\n",
      "10\n"
     ]
    }
   ],
   "source": [
    "i = 1\n",
    "while i < 11:\n",
    "    print(i)\n",
    "    i+=1"
   ]
  },
  {
   "cell_type": "markdown",
   "metadata": {},
   "source": [
    "Ans(13) :\n",
    "    \n",
    "    the function can be called by the command bacon(paramters)"
   ]
  },
  {
   "cell_type": "code",
   "execution_count": null,
   "metadata": {},
   "outputs": [],
   "source": []
  }
 ],
 "metadata": {
  "kernelspec": {
   "display_name": "Python 3",
   "language": "python",
   "name": "python3"
  },
  "language_info": {
   "codemirror_mode": {
    "name": "ipython",
    "version": 3
   },
   "file_extension": ".py",
   "mimetype": "text/x-python",
   "name": "python",
   "nbconvert_exporter": "python",
   "pygments_lexer": "ipython3",
   "version": "3.8.5"
  }
 },
 "nbformat": 4,
 "nbformat_minor": 4
}
