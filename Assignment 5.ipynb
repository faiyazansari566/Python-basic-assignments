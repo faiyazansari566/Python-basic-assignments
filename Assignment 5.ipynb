{
 "cells": [
  {
   "cell_type": "markdown",
   "id": "5ff68354",
   "metadata": {},
   "source": [
    "1. Write a Python Program to Find LCM?"
   ]
  },
  {
   "cell_type": "code",
   "execution_count": 10,
   "id": "5d130bdd",
   "metadata": {},
   "outputs": [],
   "source": [
    "def lcm(x,y):\n",
    "    if x>y:\n",
    "        temp=x\n",
    "    else:\n",
    "        temp=y\n",
    "        \n",
    "    while(True):\n",
    "        if temp%x==0 and temp%y==0 :\n",
    "            lcm = temp\n",
    "            break\n",
    "        temp+=1\n",
    "    return temp"
   ]
  },
  {
   "cell_type": "code",
   "execution_count": 11,
   "id": "e3f3a127",
   "metadata": {},
   "outputs": [
    {
     "data": {
      "text/plain": [
       "216"
      ]
     },
     "execution_count": 11,
     "metadata": {},
     "output_type": "execute_result"
    }
   ],
   "source": [
    "lcm(54,24)"
   ]
  },
  {
   "cell_type": "code",
   "execution_count": 15,
   "id": "438b915f",
   "metadata": {
    "scrolled": true
   },
   "outputs": [
    {
     "data": {
      "text/plain": [
       "60"
      ]
     },
     "execution_count": 15,
     "metadata": {},
     "output_type": "execute_result"
    }
   ],
   "source": [
    "lcm(12,20)"
   ]
  },
  {
   "cell_type": "markdown",
   "id": "f349312e",
   "metadata": {},
   "source": [
    "2. Write a Python Program to Find HCF?"
   ]
  },
  {
   "cell_type": "code",
   "execution_count": 41,
   "id": "4b99841d",
   "metadata": {
    "scrolled": true
   },
   "outputs": [
    {
     "name": "stdout",
     "output_type": "stream",
     "text": [
      "enter the 1st number --> 89\n",
      "enter the 2nd number --> 13\n",
      "hcf --> 1\n"
     ]
    }
   ],
   "source": [
    "x=int(input('enter the 1st number --> '))\n",
    "y=int(input('enter the 2nd number --> '))\n",
    "if x>y :\n",
    "    temp=x\n",
    "else :\n",
    "    temp=y\n",
    "for i in range(temp):\n",
    "    if x%(i+1)==0 and y%(i+1)==0:\n",
    "        sum = i+1\n",
    "    else:\n",
    "        pass\n",
    "print('hcf -->',sum)"
   ]
  },
  {
   "cell_type": "markdown",
   "id": "6be92866",
   "metadata": {},
   "source": [
    "3. Write a Python Program to Convert Decimal to Binary, Octal and Hexadecimal?"
   ]
  },
  {
   "cell_type": "code",
   "execution_count": 66,
   "id": "ccf41ed5",
   "metadata": {},
   "outputs": [],
   "source": [
    "def d2b(num):\n",
    "    if num>=1:\n",
    "        d2b(num//2)\n",
    "    print(num%2,end='')"
   ]
  },
  {
   "cell_type": "code",
   "execution_count": 72,
   "id": "a06ea898",
   "metadata": {
    "scrolled": true
   },
   "outputs": [
    {
     "name": "stdout",
     "output_type": "stream",
     "text": [
      "01111"
     ]
    }
   ],
   "source": [
    "d2b(15)"
   ]
  },
  {
   "cell_type": "code",
   "execution_count": 100,
   "id": "617f4446",
   "metadata": {},
   "outputs": [],
   "source": [
    "def d2o(num):\n",
    "    octal=0\n",
    "    i=1\n",
    "    while num!=0:\n",
    "        octal = octal+(num%8)*i\n",
    "        num = num//8\n",
    "        i = i*10\n",
    "    return octal"
   ]
  },
  {
   "cell_type": "code",
   "execution_count": 101,
   "id": "a7687f31",
   "metadata": {},
   "outputs": [
    {
     "data": {
      "text/plain": [
       "310"
      ]
     },
     "execution_count": 101,
     "metadata": {},
     "output_type": "execute_result"
    }
   ],
   "source": [
    "d2o(200)"
   ]
  },
  {
   "cell_type": "code",
   "execution_count": 102,
   "id": "e2830ee0",
   "metadata": {},
   "outputs": [],
   "source": [
    "conversion_table = {0: '0', 1: '1', 2: '2', 3: '3', 4: '4',\n",
    "                    5: '5', 6: '6', 7: '7',\n",
    "                    8: '8', 9: '9', 10: 'A', 11: 'B', 12: 'C',\n",
    "                    13: 'D', 14: 'E', 15: 'F'}"
   ]
  },
  {
   "cell_type": "code",
   "execution_count": 128,
   "id": "e919f401",
   "metadata": {},
   "outputs": [],
   "source": [
    "def d2h(num):\n",
    "    hexa= ''\n",
    "    while(num!=0):\n",
    "        remainder=num%16\n",
    "        hexa = conversion_table[remainder]+hexa\n",
    "        num=num//16\n",
    "    return hexa"
   ]
  },
  {
   "cell_type": "code",
   "execution_count": 130,
   "id": "9c7feba5",
   "metadata": {},
   "outputs": [
    {
     "data": {
      "text/plain": [
       "'6C'"
      ]
     },
     "execution_count": 130,
     "metadata": {},
     "output_type": "execute_result"
    }
   ],
   "source": [
    "d2h(108)"
   ]
  },
  {
   "cell_type": "markdown",
   "id": "99d222cf",
   "metadata": {},
   "source": [
    "4. Write a Python Program To Find ASCII value of a character?"
   ]
  },
  {
   "cell_type": "code",
   "execution_count": 137,
   "id": "f173d99c",
   "metadata": {},
   "outputs": [
    {
     "name": "stdout",
     "output_type": "stream",
     "text": [
      "enter the character --> d\n",
      "The ASCII value of 'd' is 100\n"
     ]
    }
   ],
   "source": [
    "c = input('enter the character --> ')\n",
    "print(\"The ASCII value of '\" + c + \"' is\", ord(c))"
   ]
  },
  {
   "cell_type": "markdown",
   "id": "2e355bd4",
   "metadata": {},
   "source": [
    "5. Write a Python Program to Make a Simple Calculator with 4 basic mathematical operations?"
   ]
  },
  {
   "cell_type": "code",
   "execution_count": 141,
   "id": "d07cd364",
   "metadata": {},
   "outputs": [],
   "source": [
    "def add(a,b):\n",
    "    return a+b\n",
    "    \n",
    "def sub(a,b):\n",
    "    return a-b\n",
    "\n",
    "def mul(a,b):\n",
    "    return a*b\n",
    "\n",
    "def div(a,b):\n",
    "    return a/b\n"
   ]
  },
  {
   "cell_type": "code",
   "execution_count": 142,
   "id": "ffcff25c",
   "metadata": {},
   "outputs": [
    {
     "data": {
      "text/plain": [
       "9"
      ]
     },
     "execution_count": 142,
     "metadata": {},
     "output_type": "execute_result"
    }
   ],
   "source": [
    "add(5,4)"
   ]
  },
  {
   "cell_type": "code",
   "execution_count": 143,
   "id": "8f35fe28",
   "metadata": {},
   "outputs": [
    {
     "data": {
      "text/plain": [
       "1"
      ]
     },
     "execution_count": 143,
     "metadata": {},
     "output_type": "execute_result"
    }
   ],
   "source": [
    "sub(5,4)"
   ]
  },
  {
   "cell_type": "code",
   "execution_count": 145,
   "id": "80f78849",
   "metadata": {},
   "outputs": [
    {
     "data": {
      "text/plain": [
       "20"
      ]
     },
     "execution_count": 145,
     "metadata": {},
     "output_type": "execute_result"
    }
   ],
   "source": [
    "mul(5,4)"
   ]
  },
  {
   "cell_type": "code",
   "execution_count": 146,
   "id": "c2d3ec17",
   "metadata": {},
   "outputs": [
    {
     "data": {
      "text/plain": [
       "1.25"
      ]
     },
     "execution_count": 146,
     "metadata": {},
     "output_type": "execute_result"
    }
   ],
   "source": [
    "div(5,4)"
   ]
  },
  {
   "cell_type": "code",
   "execution_count": null,
   "id": "c0d3c83c",
   "metadata": {},
   "outputs": [],
   "source": []
  }
 ],
 "metadata": {
  "kernelspec": {
   "display_name": "Python 3 (ipykernel)",
   "language": "python",
   "name": "python3"
  },
  "language_info": {
   "codemirror_mode": {
    "name": "ipython",
    "version": 3
   },
   "file_extension": ".py",
   "mimetype": "text/x-python",
   "name": "python",
   "nbconvert_exporter": "python",
   "pygments_lexer": "ipython3",
   "version": "3.9.7"
  }
 },
 "nbformat": 4,
 "nbformat_minor": 5
}
